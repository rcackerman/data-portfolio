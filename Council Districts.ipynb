{
 "cells": [
  {
   "cell_type": "code",
   "execution_count": null,
   "metadata": {},
   "outputs": [],
   "source": [
    "import pandas as pd\n",
    "import googlemaps"
   ]
  },
  {
   "cell_type": "code",
   "execution_count": null,
   "metadata": {},
   "outputs": [],
   "source": [
    "with open('gmapskey.txt', 'r') as f: gkey = f.read()\n",
    "gmaps = googlemaps.Client(key=gkey)"
   ]
  },
  {
   "cell_type": "code",
   "execution_count": null,
   "metadata": {},
   "outputs": [],
   "source": [
    "addresses = pd.read_csv(\n",
    "    \"~/OneDrive - NY COUNTY DEFENDER SERVICES/client_address_parts.csv\")"
   ]
  },
  {
   "cell_type": "code",
   "execution_count": null,
   "metadata": {},
   "outputs": [],
   "source": [
    "addresses.sample(15)"
   ]
  },
  {
   "cell_type": "code",
   "execution_count": null,
   "metadata": {},
   "outputs": [],
   "source": [
    "addresses[addresses.address.str.contains(',,*\\s*,', regex=True)]"
   ]
  },
  {
   "cell_type": "code",
   "execution_count": null,
   "metadata": {},
   "outputs": [],
   "source": [
    "addresses[addresses.address.str.contains('[tT]\\.*,,*\\s*,\\S*NY', regex=True)]"
   ]
  },
  {
   "cell_type": "code",
   "execution_count": null,
   "metadata": {},
   "outputs": [],
   "source": [
    "addresses.reset_index(inplace=True)\n",
    "addresses.address = addresses.address.str.replace('[tT].*,,*\\s*,\\S*NY', 'New York, NY')\n",
    "addresses.address = addresses.address.str.replace(',,*\\s*,', ', ')"
   ]
  },
  {
   "cell_type": "code",
   "execution_count": null,
   "metadata": {},
   "outputs": [],
   "source": [
    "pattern = '^[0-9a-zA-Z.# ]\\s[a-zA-Z. ]+\\s*NY\\s*[0-9]*$'\n",
    "addresses[['street', 'city', 'state', 'zip']] = addresses.address.str.extract('^(.+),([a-zA-Z. ]+),\\s*(NY)\\s*([0-9]*)$')"
   ]
  },
  {
   "cell_type": "code",
   "execution_count": null,
   "metadata": {},
   "outputs": [],
   "source": [
    "addresses.to_csv(\"~/OneDrive - NY COUNTY DEFENDER SERVICES/client_address_parts.csv\", index=False)"
   ]
  },
  {
   "cell_type": "code",
   "execution_count": null,
   "metadata": {},
   "outputs": [],
   "source": [
    "# Commenting this out so we don't accidentally hit the geocoder again.\n",
    "# addresses['geocode'] = addresses.address.apply(lambda x: gmaps.geocode(x))"
   ]
  },
  {
   "cell_type": "code",
   "execution_count": null,
   "metadata": {},
   "outputs": [],
   "source": [
    "geocodes"
   ]
  },
  {
   "cell_type": "code",
   "execution_count": null,
   "metadata": {},
   "outputs": [],
   "source": [
    "# Finding addresses that have parts missing\n",
    "# by looking for addresses with less than 2 instances of\n",
    "# text followed by a comma (so ,, would not count toward the 2)\n",
    "addresses[addresses.address.str.count('[a-zA-Z0-9.],') < 2]"
   ]
  },
  {
   "cell_type": "code",
   "execution_count": null,
   "metadata": {},
   "outputs": [],
   "source": [
    "# Finding addresses that don't have a state\n",
    "# by looking for addresses that don't have two capital\n",
    "# letters after a comma with optional space (ie NOT \",NY\" and NOT \", NJ\").\n",
    "addresses[~addresses.address.str.contains(',\\s*[A-Z][A-Z]', regex=True, na=False)]"
   ]
  },
  {
   "cell_type": "code",
   "execution_count": null,
   "metadata": {},
   "outputs": [],
   "source": [
    "clean_addrs = pd.read_csv(\n",
    "    \"~/OneDrive - NY COUNTY DEFENDER SERVICES/client_address_parts.csv\",\n",
    "    dtype='str')"
   ]
  },
  {
   "cell_type": "code",
   "execution_count": null,
   "metadata": {},
   "outputs": [],
   "source": [
    "clean_addrs[\"full_address\"] = clean_addrs.apply(\n",
    "    lambda x: \", \".join([x.street, x.city, x.state]), axis=1)"
   ]
  },
  {
   "cell_type": "code",
   "execution_count": null,
   "metadata": {},
   "outputs": [],
   "source": [
    "clean_addrs['full_address'] = clean_addrs.apply(\n",
    "    lambda row: \"  \".join([row.full_address, row.zip]) if pd.isna(row.zip) != True else row.full_address,\n",
    "                          axis=1)"
   ]
  },
  {
   "cell_type": "code",
   "execution_count": null,
   "metadata": {},
   "outputs": [],
   "source": [
    "clean_addrs['geocode'] = clean_addrs.full_address.apply(lambda x: gmaps.geocode(x))"
   ]
  },
  {
   "cell_type": "code",
   "execution_count": null,
   "metadata": {},
   "outputs": [],
   "source": [
    "geocodes = clean_addrs.set_index(['full_address', 'name', 'address', 'borough']).geocode.apply(pd.Series) \\\n",
    "                .stack() \\\n",
    "                .reset_index(level=[0,1]) \\\n",
    "                .rename(columns={0:'geocode'}) \\\n",
    "                .reset_index(drop=True)"
   ]
  },
  {
   "cell_type": "code",
   "execution_count": null,
   "metadata": {},
   "outputs": [],
   "source": [
    "geocodes.head()"
   ]
  },
  {
   "cell_type": "code",
   "execution_count": null,
   "metadata": {},
   "outputs": [],
   "source": [
    "geocodes = pd.concat([geocodes, pd.io.json.json_normalize(geocodes['geocode'])], axis=1)"
   ]
  },
  {
   "cell_type": "code",
   "execution_count": null,
   "metadata": {},
   "outputs": [],
   "source": [
    "geocodes = geocodes.drop_duplicates(subset=['name', 'full_address', 'formatted_address',\n",
    "                                            'geometry.location.lat', 'geometry.location.lng',\n",
    "                                            'partial_match', 'place_id']).reset_index(drop=True)"
   ]
  },
  {
   "cell_type": "code",
   "execution_count": null,
   "metadata": {},
   "outputs": [],
   "source": [
    "geocodes[geocodes.name.isin(geocodes.name.duplicated())].sort_values('name')"
   ]
  },
  {
   "cell_type": "code",
   "execution_count": null,
   "metadata": {},
   "outputs": [],
   "source": [
    "geocodes.to_csv(\"../datasets/geocoded_manhattan_addrs.csv\", index=False)"
   ]
  },
  {
   "cell_type": "code",
   "execution_count": null,
   "metadata": {},
   "outputs": [],
   "source": [
    "import pandas as pd\n",
    "import geopandas"
   ]
  },
  {
   "cell_type": "code",
   "execution_count": null,
   "metadata": {},
   "outputs": [],
   "source": [
    "districts_gdf = geopandas.read_file(\"../datasets/City Council Districts/geo_export_f3400307-68a8-4ab8-9f83-4213be762bec.shp\")"
   ]
  },
  {
   "cell_type": "code",
   "execution_count": null,
   "metadata": {},
   "outputs": [],
   "source": [
    "clients = pd.read_csv(\"../datasets/geocoded_manhattan_addrs.csv\")"
   ]
  },
  {
   "cell_type": "code",
   "execution_count": null,
   "metadata": {},
   "outputs": [],
   "source": [
    "clients.columns"
   ]
  },
  {
   "cell_type": "code",
   "execution_count": null,
   "metadata": {},
   "outputs": [],
   "source": [
    "import geopandas"
   ]
  },
  {
   "cell_type": "code",
   "execution_count": null,
   "metadata": {},
   "outputs": [],
   "source": [
    "from shapely.geometry import Point"
   ]
  },
  {
   "cell_type": "code",
   "execution_count": null,
   "metadata": {},
   "outputs": [],
   "source": [
    "districts_gdf = geopandas.read_file('../datasets/City Council Districts/geo_export_f3400307-68a8-4ab8-9f83-4213be762bec.shp')"
   ]
  },
  {
   "cell_type": "code",
   "execution_count": null,
   "metadata": {},
   "outputs": [],
   "source": [
    "clients_gdf = geopandas.GeoDataFrame(\n",
    "    clients, geometry=[Point(x,y) for (x,y) in zip(clients['geometry.location.lng'], clients['geometry.location.lat'])],\n",
    "    crs={'init': 'epsg:4326'}\n",
    "    )"
   ]
  },
  {
   "cell_type": "code",
   "execution_count": null,
   "metadata": {},
   "outputs": [],
   "source": [
    "import matplotlib.pyplot as plt\n",
    "%matplotlib\n",
    "ax = districts_gdf.plot(alpha=0.25, edgecolor='black')\n",
    "clients_gdf.plot(ax=ax, color='green', markersize=1)\n",
    "\n",
    "plt.show()"
   ]
  },
  {
   "cell_type": "code",
   "execution_count": null,
   "metadata": {},
   "outputs": [],
   "source": [
    "joined_gdf = geopandas.sjoin(clients_gdf, districts_gdf, how='left', op='intersects')"
   ]
  },
  {
   "cell_type": "code",
   "execution_count": null,
   "metadata": {},
   "outputs": [],
   "source": [
    "joined_gdf.sample(15)[['full_address', 'formatted_address', 'coun_dist']]"
   ]
  },
  {
   "cell_type": "code",
   "execution_count": null,
   "metadata": {},
   "outputs": [],
   "source": [
    "clients.loc[clients.full_address.str.contains('new york, ny') & ~clients.formatted_address.str.contains('New York, NY')]"
   ]
  },
  {
   "cell_type": "code",
   "execution_count": null,
   "metadata": {},
   "outputs": [],
   "source": [
    "joined_gdf.groupby('coun_dist').agg({'name': 'count'}).to_csv('council_districts.csv')"
   ]
  },
  {
   "cell_type": "code",
   "execution_count": null,
   "metadata": {},
   "outputs": [],
   "source": [
    "joined_gdf.to_csv('all_nyc_addresses.csv', index=False)"
   ]
  },
  {
   "cell_type": "code",
   "execution_count": null,
   "metadata": {},
   "outputs": [],
   "source": []
  }
 ],
 "metadata": {
  "kernelspec": {
   "display_name": "Python 3",
   "language": "python",
   "name": "python3"
  },
  "language_info": {
   "codemirror_mode": {
    "name": "ipython",
    "version": 3
   },
   "file_extension": ".py",
   "mimetype": "text/x-python",
   "name": "python",
   "nbconvert_exporter": "python",
   "pygments_lexer": "ipython3",
   "version": "3.7.3"
  }
 },
 "nbformat": 4,
 "nbformat_minor": 2
}
